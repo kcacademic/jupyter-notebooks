{
 "cells": [
  {
   "cell_type": "code",
   "execution_count": 1,
   "metadata": {},
   "outputs": [
    {
     "name": "stdout",
     "output_type": "stream",
     "text": [
      "The local minimum occurs at 2.249965\n"
     ]
    }
   ],
   "source": [
    "x_old = 0 # The value does not matter as long as abs(x_new - x_old) > precision\n",
    "x_new = 6 # The algorithm starts at x=6\n",
    "gamma = 0.01 # step size\n",
    "precision = 0.00001\n",
    "\n",
    "def df(x):\n",
    "    y = 4 * x**3 - 9 * x**2\n",
    "    return y\n",
    "\n",
    "while abs(x_new - x_old) > precision:\n",
    "    x_old = x_new\n",
    "    x_new += -gamma * df(x_old)\n",
    "\n",
    "print(\"The local minimum occurs at %f\" % x_new)"
   ]
  },
  {
   "cell_type": "code",
   "execution_count": null,
   "metadata": {},
   "outputs": [],
   "source": []
  }
 ],
 "metadata": {
  "kernelspec": {
   "display_name": "Python 3",
   "language": "python",
   "name": "python3"
  },
  "language_info": {
   "codemirror_mode": {
    "name": "ipython",
    "version": 3
   },
   "file_extension": ".py",
   "mimetype": "text/x-python",
   "name": "python",
   "nbconvert_exporter": "python",
   "pygments_lexer": "ipython3",
   "version": "3.7.4"
  }
 },
 "nbformat": 4,
 "nbformat_minor": 2
}
