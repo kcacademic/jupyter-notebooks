{
 "cells": [
  {
   "cell_type": "code",
   "execution_count": 1,
   "metadata": {},
   "outputs": [],
   "source": [
    "import numpy as np"
   ]
  },
  {
   "cell_type": "code",
   "execution_count": 4,
   "metadata": {},
   "outputs": [],
   "source": [
    "def f(x):\n",
    "    return 1 / (1 + np.exp(-x))"
   ]
  },
  {
   "cell_type": "code",
   "execution_count": 6,
   "metadata": {},
   "outputs": [],
   "source": [
    "def simple_looped_nn_calc(n_layers, x, w, b):\n",
    "    for l in range(n_layers-1):\n",
    "        #Setup the input array which the weights will be multiplied by for each layer\n",
    "        #If it's the first layer, the input array will be the x input vector\n",
    "        #If it's not the first layer, the input to the next layer will be the \n",
    "        #output of the previous layer\n",
    "        if l == 0:\n",
    "            node_in = x\n",
    "        else:\n",
    "            node_in = h\n",
    "        #Setup the output array for the nodes in layer l + 1\n",
    "        h = np.zeros((w[l].shape[0],))\n",
    "        #loop through the rows of the weight array\n",
    "        for i in range(w[l].shape[0]):\n",
    "            #setup the sum inside the activation function\n",
    "            f_sum = 0\n",
    "            #loop through the columns of the weight array\n",
    "            for j in range(w[l].shape[1]):\n",
    "                f_sum += w[l][i][j] * node_in[j]\n",
    "            #add the bias\n",
    "            f_sum += b[l][i]\n",
    "            #finally use the activation function to calculate the\n",
    "            #i-th output i.e. h1, h2, h3\n",
    "            h[i] = f(f_sum)\n",
    "    return h"
   ]
  },
  {
   "cell_type": "code",
   "execution_count": 8,
   "metadata": {},
   "outputs": [],
   "source": [
    "def matrix_feed_forward_calc(n_layers, x, w, b):\n",
    "    for l in range(n_layers-1):\n",
    "        if l == 0:\n",
    "            node_in = x\n",
    "        else:\n",
    "            node_in = h\n",
    "        z = w[l].dot(node_in) + b[l]\n",
    "        h = f(z)\n",
    "    return h"
   ]
  },
  {
   "cell_type": "code",
   "execution_count": 9,
   "metadata": {},
   "outputs": [],
   "source": [
    "w1 = np.array([[0.2, 0.2, 0.2], [0.4, 0.4, 0.4], [0.6, 0.6, 0.6]])\n",
    "w2 = np.zeros((1, 3))\n",
    "w2[0,:] = np.array([0.5, 0.5, 0.5])\n",
    "b1 = np.array([0.8, 0.8, 0.8])\n",
    "b2 = np.array([0.2])\n",
    "w = [w1, w2]\n",
    "b = [b1, b2]\n",
    "#a dummy x input vector\n",
    "x = [1.5, 2.0, 3.0]"
   ]
  },
  {
   "cell_type": "code",
   "execution_count": 10,
   "metadata": {},
   "outputs": [
    {
     "data": {
      "text/plain": [
       "array([0.83545566])"
      ]
     },
     "execution_count": 10,
     "metadata": {},
     "output_type": "execute_result"
    }
   ],
   "source": [
    "simple_looped_nn_calc(3, x, w, b)"
   ]
  },
  {
   "cell_type": "code",
   "execution_count": 11,
   "metadata": {},
   "outputs": [
    {
     "data": {
      "text/plain": [
       "array([0.83545566])"
      ]
     },
     "execution_count": 11,
     "metadata": {},
     "output_type": "execute_result"
    }
   ],
   "source": [
    "matrix_feed_forward_calc(3, x, w, b)"
   ]
  },
  {
   "cell_type": "code",
   "execution_count": null,
   "metadata": {},
   "outputs": [],
   "source": []
  }
 ],
 "metadata": {
  "kernelspec": {
   "display_name": "Python 3",
   "language": "python",
   "name": "python3"
  },
  "language_info": {
   "codemirror_mode": {
    "name": "ipython",
    "version": 3
   },
   "file_extension": ".py",
   "mimetype": "text/x-python",
   "name": "python",
   "nbconvert_exporter": "python",
   "pygments_lexer": "ipython3",
   "version": "3.7.4"
  }
 },
 "nbformat": 4,
 "nbformat_minor": 2
}
