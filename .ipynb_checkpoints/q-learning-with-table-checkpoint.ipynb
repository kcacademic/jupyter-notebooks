{
 "cells": [
  {
   "cell_type": "code",
   "execution_count": 10,
   "metadata": {},
   "outputs": [],
   "source": [
    "import gym\n",
    "import numpy as np"
   ]
  },
  {
   "cell_type": "code",
   "execution_count": 11,
   "metadata": {},
   "outputs": [],
   "source": [
    "env = gym.make('FrozenLake-v0')"
   ]
  },
  {
   "cell_type": "code",
   "execution_count": 13,
   "metadata": {},
   "outputs": [],
   "source": [
    "discount_factor = 0.95\n",
    "eps = 0.5\n",
    "eps_decay_factor = 0.999\n",
    "learning_rate = 0.8\n",
    "num_episodes = 500"
   ]
  },
  {
   "cell_type": "code",
   "execution_count": 19,
   "metadata": {},
   "outputs": [],
   "source": [
    "q_table = np.zeros([env.observation_space.n,env.action_space.n])"
   ]
  },
  {
   "cell_type": "code",
   "execution_count": 17,
   "metadata": {},
   "outputs": [
    {
     "name": "stdout",
     "output_type": "stream",
     "text": [
      "Episode 1 of 500\n",
      "Episode 101 of 500\n",
      "Episode 201 of 500\n",
      "Episode 301 of 500\n",
      "Episode 401 of 500\n"
     ]
    }
   ],
   "source": [
    "for i in range(num_episodes):\n",
    "    state = env.reset()\n",
    "    eps *= eps_decay_factor\n",
    "    if i % 100 == 0:\n",
    "        print(\"Episode {} of {}\".format(i + 1, num_episodes))\n",
    "    done = False\n",
    "    while not done:\n",
    "        # select the action randomly for initial or some random cases\n",
    "        if np.random.random() < eps or np.sum(q_table[state, :]) == 0:\n",
    "            action = np.random.randint(0, env.action_space.n)\n",
    "        # select the action otherwise with highest cummulative reward\n",
    "        else:\n",
    "            action = np.argmax(q_table[state, :])\n",
    "        # perform the choosen action and get the reward and new state\n",
    "        new_state, reward, done, _ = env.step(action)\n",
    "        # update the q-table with new q-value based on reward and new state\n",
    "        q_table[state, action] += reward + learning_rate * (discount_factor * np.max(q_table[new_state, :]) - q_table[state, action])\n",
    "        # set the new state as the state for next iteration\n",
    "        state = new_state"
   ]
  },
  {
   "cell_type": "code",
   "execution_count": 18,
   "metadata": {},
   "outputs": [
    {
     "data": {
      "text/plain": [
       "array([[3.39742124e-01, 4.40508405e-01, 1.83084494e-01, 2.29054336e-01],\n",
       "       [3.40781149e-02, 1.40954457e-02, 2.20363827e-03, 2.41647962e-01],\n",
       "       [1.45707015e-01, 1.42683122e-01, 1.42719339e-01, 1.90709319e-01],\n",
       "       [3.26927641e-02, 4.19825030e-02, 8.45228317e-02, 1.64783175e-01],\n",
       "       [4.49059896e-01, 1.00858766e-03, 2.25178797e-03, 8.52448808e-03],\n",
       "       [0.00000000e+00, 0.00000000e+00, 0.00000000e+00, 0.00000000e+00],\n",
       "       [2.69500252e-02, 1.65571227e-02, 1.86745143e-01, 4.24990768e-05],\n",
       "       [0.00000000e+00, 0.00000000e+00, 0.00000000e+00, 0.00000000e+00],\n",
       "       [6.79567391e-02, 4.73504265e-01, 1.02354364e-01, 4.40934353e-01],\n",
       "       [1.52767431e-03, 5.04171184e-01, 4.99119845e-01, 3.23539245e-01],\n",
       "       [2.23966849e-01, 1.05014471e-01, 7.02573700e-02, 1.08927046e-01],\n",
       "       [0.00000000e+00, 0.00000000e+00, 0.00000000e+00, 0.00000000e+00],\n",
       "       [0.00000000e+00, 0.00000000e+00, 0.00000000e+00, 0.00000000e+00],\n",
       "       [5.59733673e-01, 6.78888222e-01, 6.81479895e-01, 6.77252357e-01],\n",
       "       [6.74291234e-01, 7.59761964e-01, 5.22584600e-01, 7.66082457e-01],\n",
       "       [0.00000000e+00, 0.00000000e+00, 0.00000000e+00, 0.00000000e+00]])"
      ]
     },
     "execution_count": 18,
     "metadata": {},
     "output_type": "execute_result"
    }
   ],
   "source": [
    "q_table"
   ]
  },
  {
   "cell_type": "code",
   "execution_count": null,
   "metadata": {},
   "outputs": [],
   "source": []
  }
 ],
 "metadata": {
  "kernelspec": {
   "display_name": "Python 3",
   "language": "python",
   "name": "python3"
  },
  "language_info": {
   "codemirror_mode": {
    "name": "ipython",
    "version": 3
   },
   "file_extension": ".py",
   "mimetype": "text/x-python",
   "name": "python",
   "nbconvert_exporter": "python",
   "pygments_lexer": "ipython3",
   "version": "3.7.4"
  }
 },
 "nbformat": 4,
 "nbformat_minor": 2
}
