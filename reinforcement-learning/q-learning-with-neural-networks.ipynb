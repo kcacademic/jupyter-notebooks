{
 "cells": [
  {
   "cell_type": "code",
   "execution_count": 23,
   "metadata": {},
   "outputs": [],
   "source": [
    "import gym\n",
    "import numpy as np\n",
    "from keras.models import Sequential\n",
    "from keras.layers import InputLayer\n",
    "from keras.layers import Dense"
   ]
  },
  {
   "cell_type": "code",
   "execution_count": 24,
   "metadata": {},
   "outputs": [],
   "source": [
    "env = gym.make('FrozenLake-v0')"
   ]
  },
  {
   "cell_type": "code",
   "execution_count": 29,
   "metadata": {},
   "outputs": [],
   "source": [
    "discount_factor = 0.95\n",
    "eps = 0.5\n",
    "eps_decay_factor = 0.999\n",
    "num_episodes=500"
   ]
  },
  {
   "cell_type": "code",
   "execution_count": 25,
   "metadata": {},
   "outputs": [],
   "source": [
    "model = Sequential()\n",
    "model.add(InputLayer(batch_input_shape=(1, env.observation_space.n)))\n",
    "model.add(Dense(20, activation='relu'))\n",
    "model.add(Dense(env.action_space.n, activation='linear'))\n",
    "model.compile(loss='mse', optimizer='adam', metrics=['mae'])"
   ]
  },
  {
   "cell_type": "code",
   "execution_count": 27,
   "metadata": {},
   "outputs": [
    {
     "name": "stdout",
     "output_type": "stream",
     "text": [
      "Episode 1 of 500\n",
      "Episode 101 of 500\n",
      "Episode 201 of 500\n",
      "Episode 301 of 500\n",
      "Episode 401 of 500\n"
     ]
    }
   ],
   "source": [
    "for i in range(num_episodes):\n",
    "    state = env.reset()\n",
    "    eps *= eps_decay_factor\n",
    "    if i % 100 == 0:\n",
    "        print(\"Episode {} of {}\".format(i + 1, num_episodes))\n",
    "    done = False\n",
    "    while not done:\n",
    "        # select the action randomly for initial or some random cases\n",
    "        if np.random.random() < eps:\n",
    "            action = np.random.randint(0, env.action_space.n)\n",
    "        # select the action otherwise with the model prediction\n",
    "        else:\n",
    "            action = np.argmax(model.predict(np.identity(env.observation_space.n)[state:state + 1]))\n",
    "        # perform the choosen action and get the reward and new state\n",
    "        new_state, reward, done, _ = env.step(action)\n",
    "        # train the model with new q-value based on reward and new state\n",
    "        target = reward + discount_factor * np.max(model.predict(np.identity(env.observation_space.n)[new_state:new_state + 1]))\n",
    "        target_vector = model.predict(np.identity(env.observation_space.n)[state:state + 1])[0]\n",
    "        target_vector[action] = target\n",
    "        model.fit(np.identity(env.observation_space.n)[state:state + 1], target_vec.reshape(-1, env.action_space.n), epochs=1, verbose=0)\n",
    "        # set the new state as the state for next iteration\n",
    "        state = new_state"
   ]
  },
  {
   "cell_type": "code",
   "execution_count": 28,
   "metadata": {},
   "outputs": [
    {
     "data": {
      "text/plain": [
       "<keras.engine.sequential.Sequential at 0x28cd4e58908>"
      ]
     },
     "execution_count": 28,
     "metadata": {},
     "output_type": "execute_result"
    }
   ],
   "source": [
    "model"
   ]
  },
  {
   "cell_type": "code",
   "execution_count": null,
   "metadata": {},
   "outputs": [],
   "source": []
  }
 ],
 "metadata": {
  "kernelspec": {
   "display_name": "Python 3",
   "language": "python",
   "name": "python3"
  },
  "language_info": {
   "codemirror_mode": {
    "name": "ipython",
    "version": 3
   },
   "file_extension": ".py",
   "mimetype": "text/x-python",
   "name": "python",
   "nbconvert_exporter": "python",
   "pygments_lexer": "ipython3",
   "version": "3.7.4"
  }
 },
 "nbformat": 4,
 "nbformat_minor": 2
}
